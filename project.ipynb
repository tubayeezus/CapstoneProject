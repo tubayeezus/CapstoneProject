{
 "cells": [
  {
   "cell_type": "markdown",
   "id": "OVazBW1mkUeK",
   "metadata": {
    "id": "OVazBW1mkUeK"
   },
   "source": [
    "# Instructions for accessing the shared folder with images\n",
    "# 1. Open the Google Drive link: https://drive.google.com/drive/folders/1VJXE4h-gDLc1NTxj_Cwq8zB6RjcsekN_?usp=sharing\n",
    "# 2. Click \"Add to Drive\" to add the folder to your Google Drive.\n",
    "# 3. Mount Google Drive in this Colab notebook."
   ]
  },
  {
   "cell_type": "code",
   "execution_count": null,
   "id": "thf-oPACiZRx",
   "metadata": {
    "colab": {
     "base_uri": "https://localhost:8080/"
    },
    "id": "thf-oPACiZRx",
    "outputId": "793dd28d-0e64-4b2f-da7c-c796b41a638c",
    "scrolled": true
   },
   "outputs": [],
   "source": [
    "!pip install shap"
   ]
  },
  {
   "cell_type": "code",
   "execution_count": null,
   "id": "0ff4d3cd-1f24-41cf-8b05-e12f7aeb8038",
   "metadata": {
    "id": "0ff4d3cd-1f24-41cf-8b05-e12f7aeb8038",
    "tags": []
   },
   "outputs": [],
   "source": [
    "# import import_ipynb\n",
    "import tensorflow as tf\n",
    "import matplotlib.pyplot as plt\n",
    "import PIL\n",
    "from PIL import Image\n",
    "import glob\n",
    "import cv2 as cv2\n",
    "import os\n",
    "import numpy as np\n",
    "import pandas as pd\n",
    "import shap\n",
    "import json\n",
    "from pandas.plotting import scatter_matrix\n",
    "from sklearn.metrics import confusion_matrix, classification_report\n",
    "import seaborn as sns\n",
    "import random\n",
    "from tensorflow.keras.preprocessing.image import ImageDataGenerator\n",
    "from tensorflow.keras.optimizers import Adam\n",
    "from tensorflow.keras.preprocessing import image\n",
    "from tensorflow.keras.optimizers import RMSprop"
   ]
  },
  {
   "cell_type": "code",
   "execution_count": null,
   "id": "kYqahJBtgYF8",
   "metadata": {
    "colab": {
     "base_uri": "https://localhost:8080/"
    },
    "id": "kYqahJBtgYF8",
    "outputId": "d25826b0-3a1f-44e4-9d8c-fc0710531d62"
   },
   "outputs": [],
   "source": [
    "from google.colab import drive\n",
    "drive.mount('/content/drive')"
   ]
  },
  {
   "cell_type": "code",
   "execution_count": null,
   "id": "c0156cc3-f8d5-4b50-b7ab-86e2522ae71b",
   "metadata": {
    "colab": {
     "base_uri": "https://localhost:8080/"
    },
    "id": "c0156cc3-f8d5-4b50-b7ab-86e2522ae71b",
    "outputId": "8ab4ebcc-40ee-44b9-e613-647dd041b9e1",
    "tags": []
   },
   "outputs": [],
   "source": [
    "cv2.imread(\"/content/drive/MyDrive/base_data/training/gun/2.jpeg\").shape"
   ]
  },
  {
   "cell_type": "code",
   "execution_count": null,
   "id": "4b7672ff-18e8-4f6e-b132-334f04f080d6",
   "metadata": {
    "id": "4b7672ff-18e8-4f6e-b132-334f04f080d6",
    "tags": []
   },
   "outputs": [],
   "source": [
    "train = ImageDataGenerator(rescale = 1/255)\n",
    "validation = ImageDataGenerator(rescale = 1/255)"
   ]
  },
  {
   "cell_type": "code",
   "execution_count": null,
   "id": "aedb7726-a1b1-4f2d-aac2-b4cc1ca424f8",
   "metadata": {
    "colab": {
     "base_uri": "https://localhost:8080/"
    },
    "id": "aedb7726-a1b1-4f2d-aac2-b4cc1ca424f8",
    "outputId": "451fe1af-89e2-43c0-9b82-ea685eb1f8b5",
    "tags": []
   },
   "outputs": [],
   "source": [
    "train_dataset = train.flow_from_directory(\"/content/drive/MyDrive/base_data/training/\",\n",
    "                                          target_size = (200,200),\n",
    "                                          batch_size = 3,\n",
    "                                          classes=['gun', 'nogun'],\n",
    "                                          class_mode = 'binary')\n",
    "validation_dataset = train.flow_from_directory(\"/content/drive/MyDrive/base_data/validation/\",\n",
    "                                          target_size = (200,200),\n",
    "                                          batch_size = 3,\n",
    "                                            classes=['gun', 'nogun'],\n",
    "                                          class_mode = 'binary')"
   ]
  },
  {
   "cell_type": "code",
   "execution_count": null,
   "id": "adb63695-a1ae-4df5-83d3-e7dec94c0a4f",
   "metadata": {
    "id": "adb63695-a1ae-4df5-83d3-e7dec94c0a4f",
    "tags": []
   },
   "outputs": [],
   "source": [
    "model = tf.keras.models.Sequential([tf.keras.layers.Conv2D(16,(3,3),activation = 'relu', input_shape = (200,200,3)),\n",
    "                                    tf.keras.layers.MaxPool2D(2,2),\n",
    "                                    tf.keras.layers.Conv2D(32,(3,3),activation = 'relu'),\n",
    "                                    tf.keras.layers.MaxPool2D(2,2),\n",
    "                                    tf.keras.layers.Conv2D(64,(3,3),activation = 'relu'),\n",
    "                                    tf.keras.layers.RandomFlip(\"horizontal\",input_shape=(200,200,3)),\n",
    "                                    tf.keras.layers.RandomRotation(0.1),\n",
    "                                    tf.keras.layers.RandomZoom(0.1),\n",
    "                                    tf.keras.layers.MaxPool2D(2,2),\n",
    "                                    tf.keras.layers.Flatten(),\n",
    "                                    tf.keras.layers.Dropout(0,2),\n",
    "                                    tf.keras.layers.Dense(128,activation='relu'),\n",
    "                                    tf.keras.layers.Dense(1,activation='sigmoid')\n",
    "                                    ])"
   ]
  },
  {
   "cell_type": "code",
   "execution_count": null,
   "id": "dfe6f592-8486-4f1c-af75-447135534cce",
   "metadata": {
    "colab": {
     "base_uri": "https://localhost:8080/"
    },
    "id": "dfe6f592-8486-4f1c-af75-447135534cce",
    "outputId": "fd4d7bbf-e5c7-44ff-ba10-a133fbeb1444",
    "tags": []
   },
   "outputs": [],
   "source": [
    "model.compile(loss='binary_crossentropy',\n",
    "              optimizer = RMSprop(learning_rate=0.001),\n",
    "              metrics = ['accuracy'])\n",
    "\n",
    "model.summary()"
   ]
  },
  {
   "cell_type": "code",
   "execution_count": null,
   "id": "3c94a2f8-8138-4b09-8681-59c9274bef09",
   "metadata": {
    "colab": {
     "base_uri": "https://localhost:8080/"
    },
    "id": "3c94a2f8-8138-4b09-8681-59c9274bef09",
    "outputId": "c5d28168-bf6f-4e13-ba95-f03b30891cab",
    "tags": []
   },
   "outputs": [],
   "source": [
    "history = model.fit(train_dataset, batch_size = 32,\n",
    "                      epochs = 40,\n",
    "                      validation_data = validation_dataset)"
   ]
  },
  {
   "cell_type": "code",
   "execution_count": null,
   "id": "19e996b2-c99c-4add-89e3-079f361e779d",
   "metadata": {
    "id": "19e996b2-c99c-4add-89e3-079f361e779d",
    "outputId": "a06e5e30-70de-4beb-ca1e-7ea54688fc37",
    "scrolled": true,
    "tags": []
   },
   "outputs": [],
   "source": [
    "model.save_weights('model_weights_after_40_epochs.h5')\n",
    "\n",
    "\n",
    "acc = history.history['accuracy']\n",
    "val_acc = history.history['val_accuracy']\n",
    "loss = history.history['loss']\n",
    "val_loss = history.history['val_loss']\n",
    "epochs_range = range(40)\n",
    "\n",
    "plt.figure(figsize=(16, 6))\n",
    "\n",
    "plt.subplot(1, 2, 1)\n",
    "plt.plot(epochs_range, acc, label='Training Accuracy')\n",
    "plt.plot(epochs_range, val_acc, label='Validation Accuracy')\n",
    "plt.legend(loc='lower right')\n",
    "plt.title('Training and Validation Accuracy')\n",
    "\n",
    "plt.subplot(1, 2, 2)\n",
    "plt.plot(epochs_range, loss, label='Training Loss')\n",
    "plt.plot(epochs_range, val_loss, label='Validation Loss')\n",
    "plt.legend(loc='upper right')\n",
    "plt.title('Training and Validation Loss')\n",
    "plt.show()\n",
    "\n",
    "# Generate predictions for the validation dataset\n",
    "validation_predictions = model.predict(validation_dataset)\n",
    "\n",
    "# Get the true labels for the validation dataset\n",
    "true_labels = validation_dataset.classes\n",
    "\n",
    "# Generate a confusion matrix\n",
    "cm = confusion_matrix(true_labels, validation_predictions > 0.5)\n",
    "\n",
    "# Display the confusion matrix\n",
    "plt.figure(figsize=(8, 6))\n",
    "sns.heatmap(cm, annot=True, fmt=\"d\", cmap=\"Blues\", xticklabels=['gun', 'nogun'], yticklabels=['gun', 'nogun'])\n",
    "plt.xlabel('Predicted Labels')\n",
    "plt.ylabel('True Labels')\n",
    "plt.title('Confusion Matrix')\n",
    "plt.show()\n",
    "\n",
    "accuracy_percentage = overall_accuracy * 100\n",
    "error_percentage = 100 - accuracy_percentage\n",
    "\n",
    "# Create a pie chart\n",
    "labels = ['Accuracy', 'Error']\n",
    "sizes = [accuracy_percentage, error_percentage]\n",
    "colors = ['#66b3ff', '#ff9999']  # Blue for accuracy, Red for error\n",
    "\n",
    "plt.figure(figsize=(6, 6))\n",
    "plt.pie(sizes, labels=labels, colors=colors, autopct='%1.1f%%', startangle=140)\n",
    "plt.title('Model Overall Accuracy')\n",
    "plt.axis('equal')  # Equal aspect ratio ensures that pie is drawn as a circle.\n",
    "\n",
    "plt.show()\n",
    "\n",
    "overall_accuracy = model.evaluate(validation_dataset)[1]\n",
    "print(f'Overall Accuracy: {overall_accuracy * 100:.2f}%')\n"
   ]
  },
  {
   "cell_type": "markdown",
   "id": "421d2dfa",
   "metadata": {},
   "source": [
    "RUN THE FOLLOWING CODE, HERE YOU CAN UPLOAD AN IMAGE TO THE FOLLOWING FOLDER THAT WAS PREVIOUSLY DOWNLOADED AND YOU CAN SEARCH THAT IMAGE IN THE FOLDER AND DISPLAY ITS PREDICTION AS WELL AS THE IMAGE."
   ]
  },
  {
   "cell_type": "code",
   "execution_count": null,
   "id": "344d1c64-cbe7-4343-8e49-5e9016203778",
   "metadata": {
    "colab": {
     "base_uri": "https://localhost:8080/",
     "height": 543
    },
    "id": "344d1c64-cbe7-4343-8e49-5e9016203778",
    "outputId": "a4db417d-1b21-4c25-98a0-a0bbb75bd9f2",
    "tags": []
   },
   "outputs": [],
   "source": [
    "\n",
    "print(\"Hello! Please upload a JPEG image to the '/content/drive/MyDrive/base_data/testing' folder.\")\n",
    "print(\"Once uploaded, please enter the filename,ex : ('image1.jpg') program will access the image and predict whether it contains a gun or not.\")\n",
    "\n",
    "dir_path = '/content/drive/MyDrive/base_data/testing'\n",
    "# model.evaluate(validation_dataset)\n",
    "yes = True\n",
    "while(yes):\n",
    "    file = input(\"Enter here: \")\n",
    "    for i in os.listdir(dir_path):\n",
    "        if not i.startswith('.') and i == file :\n",
    "            img = image.load_img(dir_path+'/'+i, target_size=(200,200,3))\n",
    "            plt.imshow(img)\n",
    "            plt.show()\n",
    "\n",
    "            X = image.img_to_array(img)\n",
    "            X = np.expand_dims(X,axis = 0)\n",
    "            images = np.vstack([X])\n",
    "            val = model.predict(images)\n",
    "            if val == 0:\n",
    "                print(\"There is a gun(s)\")\n",
    "                yes = False\n",
    "                break\n",
    "            else:\n",
    "                print(\"There is no gun\")\n",
    "                yes = False\n",
    "                break"
   ]
  },
  {
   "cell_type": "code",
   "execution_count": null,
   "id": "8592ba8d-e845-4b83-be74-3fd7f50d93f0",
   "metadata": {
    "id": "8592ba8d-e845-4b83-be74-3fd7f50d93f0"
   },
   "outputs": [],
   "source": []
  }
 ],
 "metadata": {
  "colab": {
   "provenance": []
  },
  "kernelspec": {
   "display_name": "Python 3 (ipykernel)",
   "language": "python",
   "name": "python3"
  },
  "language_info": {
   "codemirror_mode": {
    "name": "ipython",
    "version": 3
   },
   "file_extension": ".py",
   "mimetype": "text/x-python",
   "name": "python",
   "nbconvert_exporter": "python",
   "pygments_lexer": "ipython3",
   "version": "3.11.4"
  }
 },
 "nbformat": 4,
 "nbformat_minor": 5
}
